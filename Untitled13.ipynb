{
 "cells": [
  {
   "cell_type": "code",
   "execution_count": 1,
   "metadata": {},
   "outputs": [],
   "source": [
    " import newspaper"
   ]
  },
  {
   "cell_type": "code",
   "execution_count": 6,
   "metadata": {},
   "outputs": [],
   "source": [
    "cnn_paper = newspaper.build('http://cnn.com')"
   ]
  },
  {
   "cell_type": "code",
   "execution_count": 15,
   "metadata": {},
   "outputs": [
    {
     "name": "stdout",
     "output_type": "stream",
     "text": [
      "http://cnn.com\n",
      "http://cnn.com/entertainment\n",
      "http://cnn.com/asia\n",
      "http://cnn.com/australia\n",
      "http://cnn.com/opinions\n",
      "http://cnn.com/tour\n",
      "http://cnn.com/accessibility\n",
      "http://cnn.com/uk\n",
      "http://cnn.com/videos\n",
      "http://us.cnn.com\n",
      "https://money.cnn.com\n",
      "http://cnn.com/style\n",
      "http://cnn.com/middle-east\n",
      "http://cnn.com/africa\n",
      "http://cnn.it\n",
      "http://cnn.com/politics\n",
      "http://cnn.com/world\n",
      "http://edition.cnn.com\n",
      "http://arabic.cnn.com\n",
      "http://cnn.com/china\n",
      "http://cnn.com/collection\n",
      "http://cnn.com/more\n",
      "http://cnn.com/vr\n",
      "http://cnn.com/transcripts\n",
      "https://www.cnn.com\n",
      "http://cnn.com/americas\n",
      "http://cnn.com/europe\n",
      "http://cnn.com/health\n",
      "http://cnn.com/india\n",
      "http://cnn.com/business\n",
      "http://cnnespanol.cnn.com\n",
      "http://cnn.com/travel\n",
      "http://cnn.com/us\n"
     ]
    }
   ],
   "source": [
    "for category in cnn_paper.category_urls():\n",
    "    print(category)"
   ]
  },
  {
   "cell_type": "code",
   "execution_count": 17,
   "metadata": {},
   "outputs": [
    {
     "ename": "SyntaxError",
     "evalue": "invalid syntax (<ipython-input-17-0a3da4bcc6bd>, line 1)",
     "output_type": "error",
     "traceback": [
      "\u001b[1;36m  File \u001b[1;32m\"<ipython-input-17-0a3da4bcc6bd>\"\u001b[1;36m, line \u001b[1;32m1\u001b[0m\n\u001b[1;33m    cnn_article = cnn_paper.articles[]\u001b[0m\n\u001b[1;37m                                     ^\u001b[0m\n\u001b[1;31mSyntaxError\u001b[0m\u001b[1;31m:\u001b[0m invalid syntax\n"
     ]
    }
   ],
   "source": [
    "cnn_article = cnn_paper.articles\n",
    "\n",
    "\n",
    "\n"
   ]
  }
 ],
 "metadata": {
  "kernelspec": {
   "display_name": "Python 3",
   "language": "python",
   "name": "python3"
  },
  "language_info": {
   "codemirror_mode": {
    "name": "ipython",
    "version": 3
   },
   "file_extension": ".py",
   "mimetype": "text/x-python",
   "name": "python",
   "nbconvert_exporter": "python",
   "pygments_lexer": "ipython3",
   "version": "3.7.3"
  }
 },
 "nbformat": 4,
 "nbformat_minor": 2
}
